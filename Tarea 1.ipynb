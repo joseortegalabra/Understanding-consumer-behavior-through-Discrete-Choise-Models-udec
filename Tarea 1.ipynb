{
 "cells": [
  {
   "cell_type": "code",
   "execution_count": 1,
   "metadata": {},
   "outputs": [],
   "source": [
    "import pandas as pd\n",
    "import seaborn as sns\n",
    "import numpy as np\n",
    "import matplotlib.pyplot as plt\n",
    "from sklearn.preprocessing import LabelEncoder"
   ]
  },
  {
   "cell_type": "code",
   "execution_count": 2,
   "metadata": {},
   "outputs": [],
   "source": [
    "#Transformar variables categóricas a string para mejorar calidad de gráficos de análisis\n",
    "def CHOSEN_t(row):\n",
    "    if row == 1: return 'Veh'\n",
    "    else: return 'No Veh'\n",
    "def INCOME_t(row):\n",
    "    if row == 1: return 'Less 50000'\n",
    "    if row == 2: return '50000 - 100000'\n",
    "    else: return 'More 100000'\n",
    "def ETHN_t(row):\n",
    "    if row == 1: return 'Blanca'\n",
    "    if row == 2: return 'Afroamericana'\n",
    "    if row == 3:  return 'Asiático'\n",
    "    else: return 'Hispano'\n",
    "def PTRANSP_t(row):\n",
    "    if row == 1:  return 'At least one use public transp'\n",
    "    else:   return 'No one use public transp'\n",
    "def SOLPAN_t(row):\n",
    "    if row == 1: return 'Have solar panel'\n",
    "    else: return 'No have solar panel'\n",
    "def WALKBIKE_t(row):\n",
    "    if row == 1: return 'At least one use bike'\n",
    "    else: return 'No one use bike'\n",
    "def TELECO_t(row):\n",
    "    if row ==1: return 'At least one home office'\n",
    "    else: return 'No one home office'\n",
    "def PSENIORS_t(row):\n",
    "    if row == 1: return 'At least one Older adult'\n",
    "    else: return 'No Older adult'\n",
    "def NEIGHB_t(row):\n",
    "    if row == 1: return 'Neighbor has veh'\n",
    "    else: return 'Neighbor has no veh'\n",
    "def SPOOL_t(row):\n",
    "    if row == 1: return 'Has swimming pool'\n",
    "    else: return 'No has pool'\n",
    "def CABLE_t(row):\n",
    "    if row == 1: return 'Has cable'\n",
    "    else: return 'No has cable'\n",
    "\n",
    "def transform_cat(data, conjunto):\n",
    "    data2 = data.copy()\n",
    "    data2['CHOSEN'] = data['CHOSEN'].map(CHOSEN_t)\n",
    "    data2['INCOME'] = data['INCOME'].map(INCOME_t)\n",
    "    data2['ETHN'] = data['ETHN'].map(ETHN_t)\n",
    "    data2['PTRANSP'] = data['PTRANSP'].map(PTRANSP_t)\n",
    "    data2['SOLPAN'] = data['SOLPAN'].map(SOLPAN_t)\n",
    "    data2['WALKBIKE'] = data['WALKBIKE'].map(WALKBIKE_t)\n",
    "    data2['TELECO'] = data['TELECO'].map(TELECO_t)\n",
    "    data2['PSENIORS'] = data['PSENIORS'].map(PSENIORS_t)\n",
    "    data2['NEIGHB'] = data['NEIGHB'].map(NEIGHB_t)\n",
    "    data2['SPOOL'] = data['SPOOL'].map(SPOOL_t)\n",
    "    data2['CABLE'] = data['CABLE'].map(CABLE_t)\n",
    "    return data2"
   ]
  },
  {
   "cell_type": "code",
   "execution_count": 3,
   "metadata": {},
   "outputs": [],
   "source": [
    "#graficar variable decisión\n",
    "def fig_y(data2):\n",
    "    decision = sns.countplot(data2['CHOSEN'])\n",
    "    for p in decision.patches:\n",
    "        decision.annotate(format(p.get_height(), '.2f'), (p.get_x() + p.get_width() / 2., p.get_height()), ha = 'center', va = 'center', xytext = (0, 5), textcoords = 'offset points')\n",
    "    plt.title('Histograma variable Elección de Vino', fontsize = 13)\n",
    "    plt.xlabel('Tipo de Vino')\n",
    "    plt.ylabel(None)\n",
    "    plt.xticks(rotation=0)"
   ]
  },
  {
   "cell_type": "code",
   "execution_count": 4,
   "metadata": {},
   "outputs": [],
   "source": [
    "#histograma de variables continuas de forma independiente\n",
    "def fig_hist(data2, var):\n",
    "    sns.set_style(\"darkgrid\")\n",
    "    sns.distplot(data2[var], bins = 'auto')\n",
    "    plt.xlabel(var)\n",
    "    plt.ylabel('Frequency')\n",
    "    plt.title('Histogram ' + var , fontsize = 13)"
   ]
  },
  {
   "cell_type": "code",
   "execution_count": 5,
   "metadata": {},
   "outputs": [],
   "source": [
    "#tablas para imprimir análisis de dos variables con respecto a una variable y muchos gráficos a la vez\n",
    "def table2f(data, variables, var_chosen, proportion = False, stacked_bar = False):\n",
    "    for var in variables: \n",
    "        if proportion == False:\n",
    "            table = pd.crosstab(data[var], data[var_chosen]).plot(kind = 'bar',stacked = stacked_bar, figsize = (12,4))\n",
    "        if proportion == True:\n",
    "            table = pd.crosstab(data[var], data[var_chosen])\n",
    "            table = table.div(table.sum(1).astype(float), axis = 0).plot(kind = 'bar', stacked = stacked_bar, figsize = (12,4) )\n",
    "        if stacked_bar == False:\n",
    "            for p in table.patches:\n",
    "                table.annotate(format(p.get_height(), '.2f'), (p.get_x() + p.get_width() / 2., p.get_height()), ha = 'center', va = 'center', xytext = (0, 5), textcoords = 'offset points')\n",
    "        plt.title('Adquisición vehículo eléctrico vs ' + var, fontsize = 12)\n",
    "        plt.xticks(rotation = 45)\n",
    "        plt.xlabel(None)"
   ]
  },
  {
   "cell_type": "code",
   "execution_count": 6,
   "metadata": {},
   "outputs": [],
   "source": [
    "#tabla para analizar 2 variables con respecto a una variable de decision, 1 grafico a la vez\n",
    "def table3f(data, feature1, feature2, chosen, proportion = False, stacked_bar = False):\n",
    "    if proportion == False:\n",
    "        table = pd.crosstab([data[feature1], data[feature2]], data[chosen]).plot(kind = 'bar',stacked = stacked_bar, figsize = (15,7))\n",
    "    if proportion == True:\n",
    "        table = pd.crosstab([data[feature1], data[feature2]], data[chosen])\n",
    "        table = table.div(table.sum(1).astype(float), axis = 0).plot(kind = 'bar', stacked = stacked_bar, figsize = (15,7) )\n",
    "    if stacked_bar == False:\n",
    "        for p in table.patches:\n",
    "            table.annotate(format(p.get_height(), '.2f'), (p.get_x() + p.get_width() / 2., p.get_height()), ha = 'center', va = 'center', xytext = (0, 5), textcoords = 'offset points')\n",
    "    plt.title('Adquisición vehículo eléctrico vs ' + feature1 + ' '+ feature2, fontsize = 12)\n",
    "    plt.xticks(rotation = 45)\n",
    "    plt.xlabel(None)"
   ]
  },
  {
   "cell_type": "code",
   "execution_count": 7,
   "metadata": {},
   "outputs": [],
   "source": [
    "#tabla resumen de la proporción de cada variable categórica \n",
    "def resume_table(data2, variables, var_chosen, tipo = 'percent'):\n",
    "    if tipo == 'count':\n",
    "        aux = np.array(data2[var_chosen].value_counts().tolist()).reshape(1,len(data2[var_chosen].value_counts().unique()))\n",
    "        resume = pd.DataFrame(aux , columns = data2[var_chosen].value_counts().index.tolist())\n",
    "        resume.index =  pd.MultiIndex.from_product([ [var_chosen]  , ['Mean'] ] )\n",
    "    \n",
    "    if tipo == 'percent':\n",
    "        aux = np.array(data2[var_chosen].value_counts().tolist()).reshape(1,len(data2[var_chosen].value_counts().unique()))\n",
    "        resume = pd.DataFrame(aux / aux.sum() , columns = data2[var_chosen].value_counts().index.tolist())\n",
    "        resume.index =  pd.MultiIndex.from_product([ [var_chosen]  , ['Mean'] ] )\n",
    "    for var in variables:\n",
    "        if tipo == 'count':\n",
    "            data_aux = pd.crosstab(data2[var], data2[var_chosen])\n",
    "            data_aux.index = pd.MultiIndex.from_product([ [var]  , data2[var].unique().tolist() ] )\n",
    "            resume = pd.concat((resume,data_aux) , axis = 0, sort = False)\n",
    "        if tipo == 'percent':\n",
    "            data_aux = pd.crosstab(data2[var], data2[var_chosen])\n",
    "            data_aux = data_aux.div(data_aux.sum(1).astype(float), axis = 0)\n",
    "            data_aux.index = pd.MultiIndex.from_product([ [var]  , data2[var].unique().tolist() ] )\n",
    "            resume = pd.concat((resume,data_aux) , axis = 0, sort = False)\n",
    "\n",
    "    return resume"
   ]
  },
  {
   "cell_type": "code",
   "execution_count": 8,
   "metadata": {},
   "outputs": [],
   "source": [
    "#tabla resumen para analizar los datos categóricos\n",
    "def Analysis_Data(data, col_analizar):\n",
    "    resumen_datos = pd.DataFrame()\n",
    "    for i in col_analizar:\n",
    "        #obtener valores de cada una de las características\n",
    "        A = data[i].value_counts()\n",
    "        #crear base de datos con el total y porcentaje de cada caracteerística\n",
    "        B = pd.DataFrame({ 'Total' : A, 'Percent': A.map(lambda x: x / A.sum())  })\n",
    "        # crear multiindex\n",
    "        B.index = pd.MultiIndex.from_product([[i], A.index.tolist()] )\n",
    "        # unir a una sola base datos\n",
    "        resumen_datos = pd.concat([resumen_datos, B], axis = 0)\n",
    "    \n",
    "    return resumen_datos"
   ]
  },
  {
   "cell_type": "markdown",
   "metadata": {},
   "source": [
    "CHOSEN 1: Adoptar vehículo eléctrico, 2: otro caso \n",
    "\n",
    "INCOME Ingreso disponible de los hogares(USD/año) 1: Menos de 50000 USD, 2: Entre 50000\n",
    "USD y 100000 USD , 3: Más de 100000\n",
    "\n",
    "HHSIZE Tamaño del hogar (número de personas en el hogar)\n",
    "\n",
    "NUMVEH Número de vehículos (autos) en el hogar\n",
    "\n",
    "WOMEN Número de mujeres en el hogar\n",
    "\n",
    "MEN Número de hombres en el hogar\n",
    "\n",
    "NWORK Número de personas que trabajan en el hogar\n",
    "\n",
    "NCHILD Número de niños, menores de 16 años en el hogar\n",
    "\n",
    "NYCHILD Número de niños muy jóvenes, menores a 5 años en el hogar\n",
    "\n",
    "ETHN Etnia, 1: Blanca, 2: Afroamericana, 3: Asiático, 4: Hispano\n",
    "\n",
    "DIST Distancia (millas) entre el hogar hasta el centro comercial más cercano\n",
    "\n",
    "NBIKES Número de bicicletas en el hogar\n",
    "\n",
    "PTRANSP 1: Al menos un miembro del hogar usa transporte público, 0: en otro caso\n",
    "\n",
    "SOLARPAN 1: Hay al menos un panel solar en el hogar, 0: en otro caso\n",
    "\n",
    "WALKBIKE 1: Al menos un miembro del hogar camina o va en bicicleta al trabajo, 0: e.o.c\n",
    "\n",
    "TELECO 1: Al menos un miembro del hogar trabaja desde casa, 0: en otro caso\n",
    "\n",
    "PSENIORS 1: Al menos un miembro del hogar es un adulto mayor(mayor a 65), 0: e.o.c\n",
    "\n",
    "GRAD Número de miembros del hogar con estudios universitarios\n",
    "\n",
    "POPDENSE Densidad de la población (persona por milla cuadrada) en el código postal de\n",
    "residencia\n",
    "\n",
    "NEIGHB 1: Vecino posee vehículo eléctrico, 0: en otro caso\n",
    "\n",
    "SMARTPH Número de miembros del hogar que poseen smartphone\n",
    "\n",
    "SPOOL 1: El hogar posee piscina, 0: en otro caso\n",
    "\n",
    "CABLE 1: El hogar posee cable, 0: en otro caso\n",
    "\n",
    "COST Costo Anual del vehículo eléctrico en 10000 USD"
   ]
  },
  {
   "cell_type": "markdown",
   "metadata": {},
   "source": [
    "# Preliminary data analysis"
   ]
  },
  {
   "cell_type": "markdown",
   "metadata": {},
   "source": [
    "#### Data loading and first analysis"
   ]
  },
  {
   "cell_type": "code",
   "execution_count": 9,
   "metadata": {},
   "outputs": [
    {
     "data": {
      "text/html": [
       "<div>\n",
       "<style scoped>\n",
       "    .dataframe tbody tr th:only-of-type {\n",
       "        vertical-align: middle;\n",
       "    }\n",
       "\n",
       "    .dataframe tbody tr th {\n",
       "        vertical-align: top;\n",
       "    }\n",
       "\n",
       "    .dataframe thead th {\n",
       "        text-align: right;\n",
       "    }\n",
       "</style>\n",
       "<table border=\"1\" class=\"dataframe\">\n",
       "  <thead>\n",
       "    <tr style=\"text-align: right;\">\n",
       "      <th></th>\n",
       "      <th>HHID</th>\n",
       "      <th>CHOSEN</th>\n",
       "      <th>INCOME</th>\n",
       "      <th>HHSIZE</th>\n",
       "      <th>WOMEN</th>\n",
       "      <th>MEN</th>\n",
       "      <th>NWORK</th>\n",
       "      <th>NCHILD</th>\n",
       "      <th>NYCHILD</th>\n",
       "      <th>ETHN</th>\n",
       "      <th>...</th>\n",
       "      <th>TELECO</th>\n",
       "      <th>PSENIORS</th>\n",
       "      <th>GRAD</th>\n",
       "      <th>POPDENSE</th>\n",
       "      <th>NEIGHB</th>\n",
       "      <th>SMARTPH</th>\n",
       "      <th>SPOOL</th>\n",
       "      <th>CABLE</th>\n",
       "      <th>COST</th>\n",
       "      <th>UNO</th>\n",
       "    </tr>\n",
       "  </thead>\n",
       "  <tbody>\n",
       "    <tr>\n",
       "      <th>0</th>\n",
       "      <td>1</td>\n",
       "      <td>2</td>\n",
       "      <td>2</td>\n",
       "      <td>1</td>\n",
       "      <td>1</td>\n",
       "      <td>0</td>\n",
       "      <td>1</td>\n",
       "      <td>0</td>\n",
       "      <td>0</td>\n",
       "      <td>2</td>\n",
       "      <td>...</td>\n",
       "      <td>0</td>\n",
       "      <td>0</td>\n",
       "      <td>0</td>\n",
       "      <td>1.98106</td>\n",
       "      <td>0</td>\n",
       "      <td>0</td>\n",
       "      <td>1</td>\n",
       "      <td>0</td>\n",
       "      <td>6.855</td>\n",
       "      <td>1</td>\n",
       "    </tr>\n",
       "    <tr>\n",
       "      <th>1</th>\n",
       "      <td>2</td>\n",
       "      <td>2</td>\n",
       "      <td>1</td>\n",
       "      <td>1</td>\n",
       "      <td>1</td>\n",
       "      <td>0</td>\n",
       "      <td>1</td>\n",
       "      <td>0</td>\n",
       "      <td>0</td>\n",
       "      <td>4</td>\n",
       "      <td>...</td>\n",
       "      <td>0</td>\n",
       "      <td>0</td>\n",
       "      <td>0</td>\n",
       "      <td>2.82594</td>\n",
       "      <td>0</td>\n",
       "      <td>0</td>\n",
       "      <td>0</td>\n",
       "      <td>0</td>\n",
       "      <td>5.032</td>\n",
       "      <td>1</td>\n",
       "    </tr>\n",
       "    <tr>\n",
       "      <th>2</th>\n",
       "      <td>3</td>\n",
       "      <td>2</td>\n",
       "      <td>1</td>\n",
       "      <td>1</td>\n",
       "      <td>0</td>\n",
       "      <td>1</td>\n",
       "      <td>1</td>\n",
       "      <td>0</td>\n",
       "      <td>0</td>\n",
       "      <td>3</td>\n",
       "      <td>...</td>\n",
       "      <td>0</td>\n",
       "      <td>0</td>\n",
       "      <td>0</td>\n",
       "      <td>1.48823</td>\n",
       "      <td>0</td>\n",
       "      <td>0</td>\n",
       "      <td>0</td>\n",
       "      <td>1</td>\n",
       "      <td>7.986</td>\n",
       "      <td>1</td>\n",
       "    </tr>\n",
       "    <tr>\n",
       "      <th>3</th>\n",
       "      <td>4</td>\n",
       "      <td>2</td>\n",
       "      <td>1</td>\n",
       "      <td>2</td>\n",
       "      <td>1</td>\n",
       "      <td>1</td>\n",
       "      <td>1</td>\n",
       "      <td>1</td>\n",
       "      <td>0</td>\n",
       "      <td>1</td>\n",
       "      <td>...</td>\n",
       "      <td>1</td>\n",
       "      <td>0</td>\n",
       "      <td>0</td>\n",
       "      <td>0.08695</td>\n",
       "      <td>0</td>\n",
       "      <td>1</td>\n",
       "      <td>0</td>\n",
       "      <td>0</td>\n",
       "      <td>8.436</td>\n",
       "      <td>1</td>\n",
       "    </tr>\n",
       "    <tr>\n",
       "      <th>4</th>\n",
       "      <td>5</td>\n",
       "      <td>2</td>\n",
       "      <td>3</td>\n",
       "      <td>2</td>\n",
       "      <td>0</td>\n",
       "      <td>2</td>\n",
       "      <td>1</td>\n",
       "      <td>1</td>\n",
       "      <td>0</td>\n",
       "      <td>1</td>\n",
       "      <td>...</td>\n",
       "      <td>0</td>\n",
       "      <td>0</td>\n",
       "      <td>0</td>\n",
       "      <td>0.03597</td>\n",
       "      <td>1</td>\n",
       "      <td>0</td>\n",
       "      <td>0</td>\n",
       "      <td>1</td>\n",
       "      <td>4.869</td>\n",
       "      <td>1</td>\n",
       "    </tr>\n",
       "  </tbody>\n",
       "</table>\n",
       "<p>5 rows × 25 columns</p>\n",
       "</div>"
      ],
      "text/plain": [
       "   HHID  CHOSEN  INCOME  HHSIZE  WOMEN  MEN  NWORK  NCHILD  NYCHILD  ETHN  \\\n",
       "0     1       2       2       1      1    0      1       0        0     2   \n",
       "1     2       2       1       1      1    0      1       0        0     4   \n",
       "2     3       2       1       1      0    1      1       0        0     3   \n",
       "3     4       2       1       2      1    1      1       1        0     1   \n",
       "4     5       2       3       2      0    2      1       1        0     1   \n",
       "\n",
       "   ...  TELECO  PSENIORS  GRAD  POPDENSE  NEIGHB  SMARTPH  SPOOL  CABLE  \\\n",
       "0  ...       0         0     0   1.98106       0        0      1      0   \n",
       "1  ...       0         0     0   2.82594       0        0      0      0   \n",
       "2  ...       0         0     0   1.48823       0        0      0      1   \n",
       "3  ...       1         0     0   0.08695       0        1      0      0   \n",
       "4  ...       0         0     0   0.03597       1        0      0      1   \n",
       "\n",
       "    COST  UNO  \n",
       "0  6.855    1  \n",
       "1  5.032    1  \n",
       "2  7.986    1  \n",
       "3  8.436    1  \n",
       "4  4.869    1  \n",
       "\n",
       "[5 rows x 25 columns]"
      ]
     },
     "execution_count": 9,
     "metadata": {},
     "output_type": "execute_result"
    }
   ],
   "source": [
    "#data = pd.read_csv('datasets/Data1_Aplication_to_electric_vehicle_adoption.txt', delim_whitespace=True, index_col= 'HHID')\n",
    "data = pd.read_csv('HW01_data_eveh.csv')\n",
    "data.head()"
   ]
  },
  {
   "cell_type": "code",
   "execution_count": 10,
   "metadata": {},
   "outputs": [
    {
     "data": {
      "text/html": [
       "<div>\n",
       "<style scoped>\n",
       "    .dataframe tbody tr th:only-of-type {\n",
       "        vertical-align: middle;\n",
       "    }\n",
       "\n",
       "    .dataframe tbody tr th {\n",
       "        vertical-align: top;\n",
       "    }\n",
       "\n",
       "    .dataframe thead th {\n",
       "        text-align: right;\n",
       "    }\n",
       "</style>\n",
       "<table border=\"1\" class=\"dataframe\">\n",
       "  <thead>\n",
       "    <tr style=\"text-align: right;\">\n",
       "      <th></th>\n",
       "      <th>HHID</th>\n",
       "      <th>CHOSEN</th>\n",
       "      <th>INCOME</th>\n",
       "      <th>HHSIZE</th>\n",
       "      <th>WOMEN</th>\n",
       "      <th>MEN</th>\n",
       "      <th>NWORK</th>\n",
       "      <th>NCHILD</th>\n",
       "      <th>NYCHILD</th>\n",
       "      <th>ETHN</th>\n",
       "      <th>...</th>\n",
       "      <th>TELECO</th>\n",
       "      <th>PSENIORS</th>\n",
       "      <th>GRAD</th>\n",
       "      <th>POPDENSE</th>\n",
       "      <th>NEIGHB</th>\n",
       "      <th>SMARTPH</th>\n",
       "      <th>SPOOL</th>\n",
       "      <th>CABLE</th>\n",
       "      <th>COST</th>\n",
       "      <th>UNO</th>\n",
       "    </tr>\n",
       "  </thead>\n",
       "  <tbody>\n",
       "    <tr>\n",
       "      <th>count</th>\n",
       "      <td>2350.000000</td>\n",
       "      <td>2350.000000</td>\n",
       "      <td>2350.000000</td>\n",
       "      <td>2350.000000</td>\n",
       "      <td>2350.000000</td>\n",
       "      <td>2350.000000</td>\n",
       "      <td>2350.000000</td>\n",
       "      <td>2350.000000</td>\n",
       "      <td>2350.000000</td>\n",
       "      <td>2350.000000</td>\n",
       "      <td>...</td>\n",
       "      <td>2350.000000</td>\n",
       "      <td>2350.000000</td>\n",
       "      <td>2350.000000</td>\n",
       "      <td>2350.000000</td>\n",
       "      <td>2350.000000</td>\n",
       "      <td>2350.000000</td>\n",
       "      <td>2350.000000</td>\n",
       "      <td>2350.000000</td>\n",
       "      <td>2350.000000</td>\n",
       "      <td>2350.0</td>\n",
       "    </tr>\n",
       "    <tr>\n",
       "      <th>mean</th>\n",
       "      <td>1175.500000</td>\n",
       "      <td>1.810638</td>\n",
       "      <td>1.795319</td>\n",
       "      <td>2.594043</td>\n",
       "      <td>1.304681</td>\n",
       "      <td>1.289362</td>\n",
       "      <td>1.397447</td>\n",
       "      <td>0.785106</td>\n",
       "      <td>0.164255</td>\n",
       "      <td>2.554043</td>\n",
       "      <td>...</td>\n",
       "      <td>0.177872</td>\n",
       "      <td>0.171064</td>\n",
       "      <td>0.250213</td>\n",
       "      <td>0.675924</td>\n",
       "      <td>0.204681</td>\n",
       "      <td>0.725532</td>\n",
       "      <td>0.262128</td>\n",
       "      <td>0.437021</td>\n",
       "      <td>5.606047</td>\n",
       "      <td>1.0</td>\n",
       "    </tr>\n",
       "    <tr>\n",
       "      <th>std</th>\n",
       "      <td>678.530889</td>\n",
       "      <td>0.391879</td>\n",
       "      <td>0.749215</td>\n",
       "      <td>1.575774</td>\n",
       "      <td>1.243433</td>\n",
       "      <td>1.215277</td>\n",
       "      <td>0.777719</td>\n",
       "      <td>1.141440</td>\n",
       "      <td>0.514000</td>\n",
       "      <td>1.359675</td>\n",
       "      <td>...</td>\n",
       "      <td>0.382487</td>\n",
       "      <td>0.376645</td>\n",
       "      <td>0.717973</td>\n",
       "      <td>1.007080</td>\n",
       "      <td>0.403554</td>\n",
       "      <td>1.038216</td>\n",
       "      <td>0.439885</td>\n",
       "      <td>0.496123</td>\n",
       "      <td>2.323103</td>\n",
       "      <td>0.0</td>\n",
       "    </tr>\n",
       "    <tr>\n",
       "      <th>min</th>\n",
       "      <td>1.000000</td>\n",
       "      <td>1.000000</td>\n",
       "      <td>1.000000</td>\n",
       "      <td>1.000000</td>\n",
       "      <td>0.000000</td>\n",
       "      <td>0.000000</td>\n",
       "      <td>1.000000</td>\n",
       "      <td>0.000000</td>\n",
       "      <td>0.000000</td>\n",
       "      <td>1.000000</td>\n",
       "      <td>...</td>\n",
       "      <td>0.000000</td>\n",
       "      <td>0.000000</td>\n",
       "      <td>0.000000</td>\n",
       "      <td>0.003570</td>\n",
       "      <td>0.000000</td>\n",
       "      <td>0.000000</td>\n",
       "      <td>0.000000</td>\n",
       "      <td>0.000000</td>\n",
       "      <td>1.595000</td>\n",
       "      <td>1.0</td>\n",
       "    </tr>\n",
       "    <tr>\n",
       "      <th>25%</th>\n",
       "      <td>588.250000</td>\n",
       "      <td>2.000000</td>\n",
       "      <td>1.000000</td>\n",
       "      <td>1.000000</td>\n",
       "      <td>0.000000</td>\n",
       "      <td>0.000000</td>\n",
       "      <td>1.000000</td>\n",
       "      <td>0.000000</td>\n",
       "      <td>0.000000</td>\n",
       "      <td>1.000000</td>\n",
       "      <td>...</td>\n",
       "      <td>0.000000</td>\n",
       "      <td>0.000000</td>\n",
       "      <td>0.000000</td>\n",
       "      <td>0.063650</td>\n",
       "      <td>0.000000</td>\n",
       "      <td>0.000000</td>\n",
       "      <td>0.000000</td>\n",
       "      <td>0.000000</td>\n",
       "      <td>3.570500</td>\n",
       "      <td>1.0</td>\n",
       "    </tr>\n",
       "    <tr>\n",
       "      <th>50%</th>\n",
       "      <td>1175.500000</td>\n",
       "      <td>2.000000</td>\n",
       "      <td>2.000000</td>\n",
       "      <td>2.000000</td>\n",
       "      <td>1.000000</td>\n",
       "      <td>1.000000</td>\n",
       "      <td>1.000000</td>\n",
       "      <td>0.000000</td>\n",
       "      <td>0.000000</td>\n",
       "      <td>3.000000</td>\n",
       "      <td>...</td>\n",
       "      <td>0.000000</td>\n",
       "      <td>0.000000</td>\n",
       "      <td>0.000000</td>\n",
       "      <td>0.096205</td>\n",
       "      <td>0.000000</td>\n",
       "      <td>0.000000</td>\n",
       "      <td>0.000000</td>\n",
       "      <td>0.000000</td>\n",
       "      <td>5.620000</td>\n",
       "      <td>1.0</td>\n",
       "    </tr>\n",
       "    <tr>\n",
       "      <th>75%</th>\n",
       "      <td>1762.750000</td>\n",
       "      <td>2.000000</td>\n",
       "      <td>2.000000</td>\n",
       "      <td>3.000000</td>\n",
       "      <td>2.000000</td>\n",
       "      <td>2.000000</td>\n",
       "      <td>2.000000</td>\n",
       "      <td>1.000000</td>\n",
       "      <td>0.000000</td>\n",
       "      <td>4.000000</td>\n",
       "      <td>...</td>\n",
       "      <td>0.000000</td>\n",
       "      <td>0.000000</td>\n",
       "      <td>0.000000</td>\n",
       "      <td>1.228837</td>\n",
       "      <td>0.000000</td>\n",
       "      <td>1.000000</td>\n",
       "      <td>1.000000</td>\n",
       "      <td>1.000000</td>\n",
       "      <td>7.619500</td>\n",
       "      <td>1.0</td>\n",
       "    </tr>\n",
       "    <tr>\n",
       "      <th>max</th>\n",
       "      <td>2350.000000</td>\n",
       "      <td>2.000000</td>\n",
       "      <td>3.000000</td>\n",
       "      <td>7.000000</td>\n",
       "      <td>7.000000</td>\n",
       "      <td>7.000000</td>\n",
       "      <td>6.000000</td>\n",
       "      <td>6.000000</td>\n",
       "      <td>5.000000</td>\n",
       "      <td>4.000000</td>\n",
       "      <td>...</td>\n",
       "      <td>1.000000</td>\n",
       "      <td>1.000000</td>\n",
       "      <td>6.000000</td>\n",
       "      <td>3.709980</td>\n",
       "      <td>1.000000</td>\n",
       "      <td>6.000000</td>\n",
       "      <td>1.000000</td>\n",
       "      <td>1.000000</td>\n",
       "      <td>9.677000</td>\n",
       "      <td>1.0</td>\n",
       "    </tr>\n",
       "  </tbody>\n",
       "</table>\n",
       "<p>8 rows × 25 columns</p>\n",
       "</div>"
      ],
      "text/plain": [
       "              HHID       CHOSEN       INCOME       HHSIZE        WOMEN  \\\n",
       "count  2350.000000  2350.000000  2350.000000  2350.000000  2350.000000   \n",
       "mean   1175.500000     1.810638     1.795319     2.594043     1.304681   \n",
       "std     678.530889     0.391879     0.749215     1.575774     1.243433   \n",
       "min       1.000000     1.000000     1.000000     1.000000     0.000000   \n",
       "25%     588.250000     2.000000     1.000000     1.000000     0.000000   \n",
       "50%    1175.500000     2.000000     2.000000     2.000000     1.000000   \n",
       "75%    1762.750000     2.000000     2.000000     3.000000     2.000000   \n",
       "max    2350.000000     2.000000     3.000000     7.000000     7.000000   \n",
       "\n",
       "               MEN        NWORK       NCHILD      NYCHILD         ETHN  ...  \\\n",
       "count  2350.000000  2350.000000  2350.000000  2350.000000  2350.000000  ...   \n",
       "mean      1.289362     1.397447     0.785106     0.164255     2.554043  ...   \n",
       "std       1.215277     0.777719     1.141440     0.514000     1.359675  ...   \n",
       "min       0.000000     1.000000     0.000000     0.000000     1.000000  ...   \n",
       "25%       0.000000     1.000000     0.000000     0.000000     1.000000  ...   \n",
       "50%       1.000000     1.000000     0.000000     0.000000     3.000000  ...   \n",
       "75%       2.000000     2.000000     1.000000     0.000000     4.000000  ...   \n",
       "max       7.000000     6.000000     6.000000     5.000000     4.000000  ...   \n",
       "\n",
       "            TELECO     PSENIORS         GRAD     POPDENSE       NEIGHB  \\\n",
       "count  2350.000000  2350.000000  2350.000000  2350.000000  2350.000000   \n",
       "mean      0.177872     0.171064     0.250213     0.675924     0.204681   \n",
       "std       0.382487     0.376645     0.717973     1.007080     0.403554   \n",
       "min       0.000000     0.000000     0.000000     0.003570     0.000000   \n",
       "25%       0.000000     0.000000     0.000000     0.063650     0.000000   \n",
       "50%       0.000000     0.000000     0.000000     0.096205     0.000000   \n",
       "75%       0.000000     0.000000     0.000000     1.228837     0.000000   \n",
       "max       1.000000     1.000000     6.000000     3.709980     1.000000   \n",
       "\n",
       "           SMARTPH        SPOOL        CABLE         COST     UNO  \n",
       "count  2350.000000  2350.000000  2350.000000  2350.000000  2350.0  \n",
       "mean      0.725532     0.262128     0.437021     5.606047     1.0  \n",
       "std       1.038216     0.439885     0.496123     2.323103     0.0  \n",
       "min       0.000000     0.000000     0.000000     1.595000     1.0  \n",
       "25%       0.000000     0.000000     0.000000     3.570500     1.0  \n",
       "50%       0.000000     0.000000     0.000000     5.620000     1.0  \n",
       "75%       1.000000     1.000000     1.000000     7.619500     1.0  \n",
       "max       6.000000     1.000000     1.000000     9.677000     1.0  \n",
       "\n",
       "[8 rows x 25 columns]"
      ]
     },
     "execution_count": 10,
     "metadata": {},
     "output_type": "execute_result"
    }
   ],
   "source": [
    "data.describe()"
   ]
  },
  {
   "cell_type": "code",
   "execution_count": 11,
   "metadata": {},
   "outputs": [
    {
     "name": "stdout",
     "output_type": "stream",
     "text": [
      "DataSet has 2350 rows and 25 features\n"
     ]
    }
   ],
   "source": [
    "print('DataSet has {} rows and {} features' .format(data.shape[0], data.shape[1]))"
   ]
  },
  {
   "cell_type": "code",
   "execution_count": 12,
   "metadata": {},
   "outputs": [
    {
     "name": "stdout",
     "output_type": "stream",
     "text": [
      "DataSet does not have missing values\n"
     ]
    }
   ],
   "source": [
    "if data.isnull().sum().any() == False:\n",
    "    print('DataSet does not have missing values')\n",
    "else: print('DataSet has at least one missing value')"
   ]
  },
  {
   "cell_type": "code",
   "execution_count": 13,
   "metadata": {},
   "outputs": [
    {
     "name": "stdout",
     "output_type": "stream",
     "text": [
      "HHID          int64\n",
      "CHOSEN        int64\n",
      "INCOME        int64\n",
      "HHSIZE        int64\n",
      "WOMEN         int64\n",
      "MEN           int64\n",
      "NWORK         int64\n",
      "NCHILD        int64\n",
      "NYCHILD       int64\n",
      "ETHN          int64\n",
      "DIST        float64\n",
      "NBIKES        int64\n",
      "PTRANSP       int64\n",
      "SOLPAN        int64\n",
      "WALKBIKE      int64\n",
      "TELECO        int64\n",
      "PSENIORS      int64\n",
      "GRAD          int64\n",
      "POPDENSE    float64\n",
      "NEIGHB        int64\n",
      "SMARTPH       int64\n",
      "SPOOL         int64\n",
      "CABLE         int64\n",
      "COST        float64\n",
      "UNO           int64\n",
      "dtype: object\n",
      "\n",
      "DataSet has only numerical features between continuos and categorical features\n"
     ]
    }
   ],
   "source": [
    "print(data.dtypes)\n",
    "print('\\nDataSet has only numerical features between continuos and categorical features')"
   ]
  },
  {
   "cell_type": "code",
   "execution_count": 14,
   "metadata": {},
   "outputs": [
    {
     "name": "stdout",
     "output_type": "stream",
     "text": [
      "Range of values of each of the features in the DataSet\n",
      "HHID        2350\n",
      "CHOSEN         2\n",
      "INCOME         3\n",
      "HHSIZE         7\n",
      "WOMEN          8\n",
      "MEN            8\n",
      "NWORK          6\n",
      "NCHILD         7\n",
      "NYCHILD        6\n",
      "ETHN           4\n",
      "DIST         465\n",
      "NBIKES         6\n",
      "PTRANSP        2\n",
      "SOLPAN         2\n",
      "WALKBIKE       2\n",
      "TELECO         2\n",
      "PSENIORS       2\n",
      "GRAD           7\n",
      "POPDENSE    2245\n",
      "NEIGHB         2\n",
      "SMARTPH        7\n",
      "SPOOL          2\n",
      "CABLE          2\n",
      "COST        2029\n",
      "UNO            1\n",
      "dtype: int64\n"
     ]
    }
   ],
   "source": [
    "print('Range of values of each of the features in the DataSet')\n",
    "print(data.nunique())"
   ]
  },
  {
   "cell_type": "markdown",
   "metadata": {},
   "source": [
    "### Transform de categorical features to string"
   ]
  },
  {
   "cell_type": "code",
   "execution_count": 15,
   "metadata": {},
   "outputs": [
    {
     "data": {
      "text/html": [
       "<div>\n",
       "<style scoped>\n",
       "    .dataframe tbody tr th:only-of-type {\n",
       "        vertical-align: middle;\n",
       "    }\n",
       "\n",
       "    .dataframe tbody tr th {\n",
       "        vertical-align: top;\n",
       "    }\n",
       "\n",
       "    .dataframe thead th {\n",
       "        text-align: right;\n",
       "    }\n",
       "</style>\n",
       "<table border=\"1\" class=\"dataframe\">\n",
       "  <thead>\n",
       "    <tr style=\"text-align: right;\">\n",
       "      <th></th>\n",
       "      <th>HHID</th>\n",
       "      <th>CHOSEN</th>\n",
       "      <th>INCOME</th>\n",
       "      <th>HHSIZE</th>\n",
       "      <th>WOMEN</th>\n",
       "      <th>MEN</th>\n",
       "      <th>NWORK</th>\n",
       "      <th>NCHILD</th>\n",
       "      <th>NYCHILD</th>\n",
       "      <th>ETHN</th>\n",
       "      <th>...</th>\n",
       "      <th>TELECO</th>\n",
       "      <th>PSENIORS</th>\n",
       "      <th>GRAD</th>\n",
       "      <th>POPDENSE</th>\n",
       "      <th>NEIGHB</th>\n",
       "      <th>SMARTPH</th>\n",
       "      <th>SPOOL</th>\n",
       "      <th>CABLE</th>\n",
       "      <th>COST</th>\n",
       "      <th>UNO</th>\n",
       "    </tr>\n",
       "  </thead>\n",
       "  <tbody>\n",
       "    <tr>\n",
       "      <th>0</th>\n",
       "      <td>1</td>\n",
       "      <td>No Veh</td>\n",
       "      <td>50000 - 100000</td>\n",
       "      <td>1</td>\n",
       "      <td>1</td>\n",
       "      <td>0</td>\n",
       "      <td>1</td>\n",
       "      <td>0</td>\n",
       "      <td>0</td>\n",
       "      <td>Afroamericana</td>\n",
       "      <td>...</td>\n",
       "      <td>No one home office</td>\n",
       "      <td>No Older adult</td>\n",
       "      <td>0</td>\n",
       "      <td>1.98106</td>\n",
       "      <td>Neighbor has no veh</td>\n",
       "      <td>0</td>\n",
       "      <td>Has swimming pool</td>\n",
       "      <td>No has cable</td>\n",
       "      <td>6.855</td>\n",
       "      <td>1</td>\n",
       "    </tr>\n",
       "    <tr>\n",
       "      <th>1</th>\n",
       "      <td>2</td>\n",
       "      <td>No Veh</td>\n",
       "      <td>Less 50000</td>\n",
       "      <td>1</td>\n",
       "      <td>1</td>\n",
       "      <td>0</td>\n",
       "      <td>1</td>\n",
       "      <td>0</td>\n",
       "      <td>0</td>\n",
       "      <td>Hispano</td>\n",
       "      <td>...</td>\n",
       "      <td>No one home office</td>\n",
       "      <td>No Older adult</td>\n",
       "      <td>0</td>\n",
       "      <td>2.82594</td>\n",
       "      <td>Neighbor has no veh</td>\n",
       "      <td>0</td>\n",
       "      <td>No has pool</td>\n",
       "      <td>No has cable</td>\n",
       "      <td>5.032</td>\n",
       "      <td>1</td>\n",
       "    </tr>\n",
       "    <tr>\n",
       "      <th>2</th>\n",
       "      <td>3</td>\n",
       "      <td>No Veh</td>\n",
       "      <td>Less 50000</td>\n",
       "      <td>1</td>\n",
       "      <td>0</td>\n",
       "      <td>1</td>\n",
       "      <td>1</td>\n",
       "      <td>0</td>\n",
       "      <td>0</td>\n",
       "      <td>Asiático</td>\n",
       "      <td>...</td>\n",
       "      <td>No one home office</td>\n",
       "      <td>No Older adult</td>\n",
       "      <td>0</td>\n",
       "      <td>1.48823</td>\n",
       "      <td>Neighbor has no veh</td>\n",
       "      <td>0</td>\n",
       "      <td>No has pool</td>\n",
       "      <td>Has cable</td>\n",
       "      <td>7.986</td>\n",
       "      <td>1</td>\n",
       "    </tr>\n",
       "    <tr>\n",
       "      <th>3</th>\n",
       "      <td>4</td>\n",
       "      <td>No Veh</td>\n",
       "      <td>Less 50000</td>\n",
       "      <td>2</td>\n",
       "      <td>1</td>\n",
       "      <td>1</td>\n",
       "      <td>1</td>\n",
       "      <td>1</td>\n",
       "      <td>0</td>\n",
       "      <td>Blanca</td>\n",
       "      <td>...</td>\n",
       "      <td>At least one home office</td>\n",
       "      <td>No Older adult</td>\n",
       "      <td>0</td>\n",
       "      <td>0.08695</td>\n",
       "      <td>Neighbor has no veh</td>\n",
       "      <td>1</td>\n",
       "      <td>No has pool</td>\n",
       "      <td>No has cable</td>\n",
       "      <td>8.436</td>\n",
       "      <td>1</td>\n",
       "    </tr>\n",
       "    <tr>\n",
       "      <th>4</th>\n",
       "      <td>5</td>\n",
       "      <td>No Veh</td>\n",
       "      <td>More 100000</td>\n",
       "      <td>2</td>\n",
       "      <td>0</td>\n",
       "      <td>2</td>\n",
       "      <td>1</td>\n",
       "      <td>1</td>\n",
       "      <td>0</td>\n",
       "      <td>Blanca</td>\n",
       "      <td>...</td>\n",
       "      <td>No one home office</td>\n",
       "      <td>No Older adult</td>\n",
       "      <td>0</td>\n",
       "      <td>0.03597</td>\n",
       "      <td>Neighbor has veh</td>\n",
       "      <td>0</td>\n",
       "      <td>No has pool</td>\n",
       "      <td>Has cable</td>\n",
       "      <td>4.869</td>\n",
       "      <td>1</td>\n",
       "    </tr>\n",
       "  </tbody>\n",
       "</table>\n",
       "<p>5 rows × 25 columns</p>\n",
       "</div>"
      ],
      "text/plain": [
       "   HHID  CHOSEN          INCOME  HHSIZE  WOMEN  MEN  NWORK  NCHILD  NYCHILD  \\\n",
       "0     1  No Veh  50000 - 100000       1      1    0      1       0        0   \n",
       "1     2  No Veh      Less 50000       1      1    0      1       0        0   \n",
       "2     3  No Veh      Less 50000       1      0    1      1       0        0   \n",
       "3     4  No Veh      Less 50000       2      1    1      1       1        0   \n",
       "4     5  No Veh     More 100000       2      0    2      1       1        0   \n",
       "\n",
       "            ETHN  ...                    TELECO        PSENIORS GRAD POPDENSE  \\\n",
       "0  Afroamericana  ...        No one home office  No Older adult    0  1.98106   \n",
       "1        Hispano  ...        No one home office  No Older adult    0  2.82594   \n",
       "2       Asiático  ...        No one home office  No Older adult    0  1.48823   \n",
       "3         Blanca  ...  At least one home office  No Older adult    0  0.08695   \n",
       "4         Blanca  ...        No one home office  No Older adult    0  0.03597   \n",
       "\n",
       "                NEIGHB SMARTPH              SPOOL         CABLE   COST UNO  \n",
       "0  Neighbor has no veh       0  Has swimming pool  No has cable  6.855   1  \n",
       "1  Neighbor has no veh       0        No has pool  No has cable  5.032   1  \n",
       "2  Neighbor has no veh       0        No has pool     Has cable  7.986   1  \n",
       "3  Neighbor has no veh       1        No has pool  No has cable  8.436   1  \n",
       "4     Neighbor has veh       0        No has pool     Has cable  4.869   1  \n",
       "\n",
       "[5 rows x 25 columns]"
      ]
     },
     "execution_count": 15,
     "metadata": {},
     "output_type": "execute_result"
    }
   ],
   "source": [
    "conjunto_cat = ['CHOSEN', 'INCOME' , 'ETHN', 'PTRANSP', 'SOLPAN', 'WALKBIKE' ,'TELECO', 'PSENIORS' ,'NEIGHB', 'SPOOL', 'CABLE']\n",
    "data2 = transform_cat(data, conjunto_cat)\n",
    "data2.head()"
   ]
  },
  {
   "cell_type": "markdown",
   "metadata": {},
   "source": [
    "### Analysis decision variable"
   ]
  },
  {
   "cell_type": "code",
   "execution_count": 16,
   "metadata": {},
   "outputs": [
    {
     "data": {
      "image/png": "[encoded data removed]",
      "text/plain": [
       "<Figure size 432x288 with 1 Axes>"
      ]
     },
     "metadata": {
      "needs_background": "light"
     },
     "output_type": "display_data"
    }
   ],
   "source": [
    "fig_y(data2)"
   ]
  },
  {
   "cell_type": "markdown",
   "metadata": {},
   "source": [
    "### Analysis categorical features"
   ]
  },
  {
   "cell_type": "code",
   "execution_count": 17,
   "metadata": {},
   "outputs": [
    {
     "data": {
      "text/html": [
       "<div>\n",
       "<style scoped>\n",
       "    .dataframe tbody tr th:only-of-type {\n",
       "        vertical-align: middle;\n",
       "    }\n",
       "\n",
       "    .dataframe tbody tr th {\n",
       "        vertical-align: top;\n",
       "    }\n",
       "\n",
       "    .dataframe thead th {\n",
       "        text-align: right;\n",
       "    }\n",
       "</style>\n",
       "<table border=\"1\" class=\"dataframe\">\n",
       "  <thead>\n",
       "    <tr style=\"text-align: right;\">\n",
       "      <th></th>\n",
       "      <th></th>\n",
       "      <th>Total</th>\n",
       "      <th>Percent</th>\n",
       "    </tr>\n",
       "  </thead>\n",
       "  <tbody>\n",
       "    <tr>\n",
       "      <th rowspan=\"3\" valign=\"top\">INCOME</th>\n",
       "      <th>Less 50000</th>\n",
       "      <td>949</td>\n",
       "      <td>0.403830</td>\n",
       "    </tr>\n",
       "    <tr>\n",
       "      <th>50000 - 100000</th>\n",
       "      <td>933</td>\n",
       "      <td>0.397021</td>\n",
       "    </tr>\n",
       "    <tr>\n",
       "      <th>More 100000</th>\n",
       "      <td>468</td>\n",
       "      <td>0.199149</td>\n",
       "    </tr>\n",
       "    <tr>\n",
       "      <th rowspan=\"4\" valign=\"top\">ETHN</th>\n",
       "      <th>Hispano</th>\n",
       "      <td>961</td>\n",
       "      <td>0.408936</td>\n",
       "    </tr>\n",
       "    <tr>\n",
       "      <th>Blanca</th>\n",
       "      <td>920</td>\n",
       "      <td>0.391489</td>\n",
       "    </tr>\n",
       "    <tr>\n",
       "      <th>Asiático</th>\n",
       "      <td>300</td>\n",
       "      <td>0.127660</td>\n",
       "    </tr>\n",
       "    <tr>\n",
       "      <th>Afroamericana</th>\n",
       "      <td>169</td>\n",
       "      <td>0.071915</td>\n",
       "    </tr>\n",
       "    <tr>\n",
       "      <th rowspan=\"2\" valign=\"top\">PTRANSP</th>\n",
       "      <th>No one use public transp</th>\n",
       "      <td>1748</td>\n",
       "      <td>0.743830</td>\n",
       "    </tr>\n",
       "    <tr>\n",
       "      <th>At least one use public transp</th>\n",
       "      <td>602</td>\n",
       "      <td>0.256170</td>\n",
       "    </tr>\n",
       "    <tr>\n",
       "      <th rowspan=\"2\" valign=\"top\">SOLPAN</th>\n",
       "      <th>No have solar panel</th>\n",
       "      <td>2181</td>\n",
       "      <td>0.928085</td>\n",
       "    </tr>\n",
       "    <tr>\n",
       "      <th>Have solar panel</th>\n",
       "      <td>169</td>\n",
       "      <td>0.071915</td>\n",
       "    </tr>\n",
       "    <tr>\n",
       "      <th rowspan=\"2\" valign=\"top\">WALKBIKE</th>\n",
       "      <th>No one use bike</th>\n",
       "      <td>1602</td>\n",
       "      <td>0.681702</td>\n",
       "    </tr>\n",
       "    <tr>\n",
       "      <th>At least one use bike</th>\n",
       "      <td>748</td>\n",
       "      <td>0.318298</td>\n",
       "    </tr>\n",
       "    <tr>\n",
       "      <th rowspan=\"2\" valign=\"top\">TELECO</th>\n",
       "      <th>No one home office</th>\n",
       "      <td>1932</td>\n",
       "      <td>0.822128</td>\n",
       "    </tr>\n",
       "    <tr>\n",
       "      <th>At least one home office</th>\n",
       "      <td>418</td>\n",
       "      <td>0.177872</td>\n",
       "    </tr>\n",
       "    <tr>\n",
       "      <th rowspan=\"2\" valign=\"top\">PSENIORS</th>\n",
       "      <th>No Older adult</th>\n",
       "      <td>1948</td>\n",
       "      <td>0.828936</td>\n",
       "    </tr>\n",
       "    <tr>\n",
       "      <th>At least one Older adult</th>\n",
       "      <td>402</td>\n",
       "      <td>0.171064</td>\n",
       "    </tr>\n",
       "    <tr>\n",
       "      <th rowspan=\"2\" valign=\"top\">NEIGHB</th>\n",
       "      <th>Neighbor has no veh</th>\n",
       "      <td>1869</td>\n",
       "      <td>0.795319</td>\n",
       "    </tr>\n",
       "    <tr>\n",
       "      <th>Neighbor has veh</th>\n",
       "      <td>481</td>\n",
       "      <td>0.204681</td>\n",
       "    </tr>\n",
       "    <tr>\n",
       "      <th rowspan=\"2\" valign=\"top\">SPOOL</th>\n",
       "      <th>No has pool</th>\n",
       "      <td>1734</td>\n",
       "      <td>0.737872</td>\n",
       "    </tr>\n",
       "    <tr>\n",
       "      <th>Has swimming pool</th>\n",
       "      <td>616</td>\n",
       "      <td>0.262128</td>\n",
       "    </tr>\n",
       "    <tr>\n",
       "      <th rowspan=\"2\" valign=\"top\">CABLE</th>\n",
       "      <th>No has cable</th>\n",
       "      <td>1323</td>\n",
       "      <td>0.562979</td>\n",
       "    </tr>\n",
       "    <tr>\n",
       "      <th>Has cable</th>\n",
       "      <td>1027</td>\n",
       "      <td>0.437021</td>\n",
       "    </tr>\n",
       "  </tbody>\n",
       "</table>\n",
       "</div>"
      ],
      "text/plain": [
       "                                         Total   Percent\n",
       "INCOME   Less 50000                        949  0.403830\n",
       "         50000 - 100000                    933  0.397021\n",
       "         More 100000                       468  0.199149\n",
       "ETHN     Hispano                           961  0.408936\n",
       "         Blanca                            920  0.391489\n",
       "         Asiático                          300  0.127660\n",
       "         Afroamericana                     169  0.071915\n",
       "PTRANSP  No one use public transp         1748  0.743830\n",
       "         At least one use public transp    602  0.256170\n",
       "SOLPAN   No have solar panel              2181  0.928085\n",
       "         Have solar panel                  169  0.071915\n",
       "WALKBIKE No one use bike                  1602  0.681702\n",
       "         At least one use bike             748  0.318298\n",
       "TELECO   No one home office               1932  0.822128\n",
       "         At least one home office          418  0.177872\n",
       "PSENIORS No Older adult                   1948  0.828936\n",
       "         At least one Older adult          402  0.171064\n",
       "NEIGHB   Neighbor has no veh              1869  0.795319\n",
       "         Neighbor has veh                  481  0.204681\n",
       "SPOOL    No has pool                      1734  0.737872\n",
       "         Has swimming pool                 616  0.262128\n",
       "CABLE    No has cable                     1323  0.562979\n",
       "         Has cable                        1027  0.437021"
      ]
     },
     "execution_count": 17,
     "metadata": {},
     "output_type": "execute_result"
    }
   ],
   "source": [
    "conjunto_cat2 = ['INCOME' , 'ETHN', 'PTRANSP', 'SOLPAN', 'WALKBIKE' ,'TELECO', 'PSENIORS' ,'NEIGHB', 'SPOOL', 'CABLE']\n",
    "Analysis_Data(data2, conjunto_cat2)"
   ]
  },
  {
   "cell_type": "markdown",
   "metadata": {},
   "source": [
    "### Histogram continuous variable"
   ]
  },
  {
   "cell_type": "code",
   "execution_count": 18,
   "metadata": {},
   "outputs": [
    {
     "data": {
      "image/png": "[encoded data removed]",
      "text/plain": [
       "<Figure size 432x288 with 1 Axes>"
      ]
     },
     "metadata": {},
     "output_type": "display_data"
    }
   ],
   "source": [
    "fig_hist(data2, 'DIST')"
   ]
  },
  {
   "cell_type": "code",
   "execution_count": 19,
   "metadata": {},
   "outputs": [
    {
     "data": {
      "image/png": "[encoded data removed]",
      "text/plain": [
       "<Figure size 432x288 with 1 Axes>"
      ]
     },
     "metadata": {},
     "output_type": "display_data"
    }
   ],
   "source": [
    "fig_hist(data2, 'POPDENSE')"
   ]
  },
  {
   "cell_type": "code",
   "execution_count": 20,
   "metadata": {},
   "outputs": [
    {
     "data": {
      "image/png": "[encoded data removed]",
      "text/plain": [
       "<Figure size 432x288 with 1 Axes>"
      ]
     },
     "metadata": {},
     "output_type": "display_data"
    }
   ],
   "source": [
    "fig_hist(data2, 'COST')"
   ]
  },
  {
   "cell_type": "markdown",
   "metadata": {},
   "source": [
    "### Analysis categorical variable with decision choise"
   ]
  },
  {
   "cell_type": "code",
   "execution_count": 21,
   "metadata": {},
   "outputs": [
    {
     "data": {
      "image/png": "[encoded data removed]",
      "text/plain": [
       "<Figure size 864x288 with 1 Axes>"
      ]
     },
     "metadata": {},
     "output_type": "display_data"
    },
    {
     "data": {
      "image/png": "[encoded data removed]",
      "text/plain": [
       "<Figure size 864x288 with 1 Axes>"
      ]
     },
     "metadata": {},
     "output_type": "display_data"
    },
    {
     "data": {
      "image/png": "[encoded data removed]",
      "text/plain": [
       "<Figure size 864x288 with 1 Axes>"
      ]
     },
     "metadata": {},
     "output_type": "display_data"
    },
    {
     "data": {
      "image/png": "[encoded data removed]",
      "text/plain": [
       "<Figure size 864x288 with 1 Axes>"
      ]
     },
     "metadata": {},
     "output_type": "display_data"
    },
    {
     "data": {
      "image/png": "[encoded data removed]",
      "text/plain": [
       "<Figure size 864x288 with 1 Axes>"
      ]
     },
     "metadata": {},
     "output_type": "display_data"
    },
    {
     "data": {
      "image/png": "[encoded data removed]",
      "text/plain": [
       "<Figure size 864x288 with 1 Axes>"
      ]
     },
     "metadata": {},
     "output_type": "display_data"
    },
    {
     "data": {
      "image/png": "[encoded data removed]",
      "text/plain": [
       "<Figure size 864x288 with 1 Axes>"
      ]
     },
     "metadata": {},
     "output_type": "display_data"
    },
    {
     "data": {
      "image/png": "[encoded data removed]",
      "text/plain": [
       "<Figure size 864x288 with 1 Axes>"
      ]
     },
     "metadata": {},
     "output_type": "display_data"
    },
    {
     "data": {
      "image/png": "[encoded data removed]",
      "text/plain": [
       "<Figure size 864x288 with 1 Axes>"
      ]
     },
     "metadata": {},
     "output_type": "display_data"
    },
    {
     "data": {
      "image/png": "[encoded data removed]",
      "text/plain": [
       "<Figure size 864x288 with 1 Axes>"
      ]
     },
     "metadata": {},
     "output_type": "display_data"
    }
   ],
   "source": [
    "table2f(data2,conjunto_cat2,'CHOSEN', proportion = True, stacked_bar = False)"
   ]
  },
  {
   "cell_type": "code",
   "execution_count": 22,
   "metadata": {},
   "outputs": [
    {
     "data": {
      "image/png": "[encoded data removed]",
      "text/plain": [
       "<Figure size 1080x504 with 1 Axes>"
      ]
     },
     "metadata": {},
     "output_type": "display_data"
    }
   ],
   "source": [
    "table3f(data2, 'HHSIZE','INCOME', 'CHOSEN', proportion = True, stacked_bar = False)"
   ]
  },
  {
   "cell_type": "markdown",
   "metadata": {},
   "source": [
    "### Resume with the proportion of each choise"
   ]
  },
  {
   "cell_type": "code",
   "execution_count": 23,
   "metadata": {},
   "outputs": [
    {
     "data": {
      "text/html": [
       "<div>\n",
       "<style scoped>\n",
       "    .dataframe tbody tr th:only-of-type {\n",
       "        vertical-align: middle;\n",
       "    }\n",
       "\n",
       "    .dataframe tbody tr th {\n",
       "        vertical-align: top;\n",
       "    }\n",
       "\n",
       "    .dataframe thead th {\n",
       "        text-align: right;\n",
       "    }\n",
       "</style>\n",
       "<table border=\"1\" class=\"dataframe\">\n",
       "  <thead>\n",
       "    <tr style=\"text-align: right;\">\n",
       "      <th></th>\n",
       "      <th>CHOSEN</th>\n",
       "      <th>No Veh</th>\n",
       "      <th>Veh</th>\n",
       "    </tr>\n",
       "  </thead>\n",
       "  <tbody>\n",
       "    <tr>\n",
       "      <th>CHOSEN</th>\n",
       "      <th>Mean</th>\n",
       "      <td>0.810638</td>\n",
       "      <td>0.189362</td>\n",
       "    </tr>\n",
       "    <tr>\n",
       "      <th rowspan=\"3\" valign=\"top\">INCOME</th>\n",
       "      <th>50000 - 100000</th>\n",
       "      <td>0.802787</td>\n",
       "      <td>0.197213</td>\n",
       "    </tr>\n",
       "    <tr>\n",
       "      <th>Less 50000</th>\n",
       "      <td>0.855638</td>\n",
       "      <td>0.144362</td>\n",
       "    </tr>\n",
       "    <tr>\n",
       "      <th>More 100000</th>\n",
       "      <td>0.735043</td>\n",
       "      <td>0.264957</td>\n",
       "    </tr>\n",
       "    <tr>\n",
       "      <th rowspan=\"4\" valign=\"top\">ETHN</th>\n",
       "      <th>Afroamericana</th>\n",
       "      <td>0.822485</td>\n",
       "      <td>0.177515</td>\n",
       "    </tr>\n",
       "    <tr>\n",
       "      <th>Hispano</th>\n",
       "      <td>0.823333</td>\n",
       "      <td>0.176667</td>\n",
       "    </tr>\n",
       "    <tr>\n",
       "      <th>Asiático</th>\n",
       "      <td>0.795652</td>\n",
       "      <td>0.204348</td>\n",
       "    </tr>\n",
       "    <tr>\n",
       "      <th>Blanca</th>\n",
       "      <td>0.818939</td>\n",
       "      <td>0.181061</td>\n",
       "    </tr>\n",
       "    <tr>\n",
       "      <th rowspan=\"2\" valign=\"top\">PTRANSP</th>\n",
       "      <th>At least one use public transp</th>\n",
       "      <td>0.794020</td>\n",
       "      <td>0.205980</td>\n",
       "    </tr>\n",
       "    <tr>\n",
       "      <th>No one use public transp</th>\n",
       "      <td>0.816362</td>\n",
       "      <td>0.183638</td>\n",
       "    </tr>\n",
       "    <tr>\n",
       "      <th rowspan=\"2\" valign=\"top\">SOLPAN</th>\n",
       "      <th>No have solar panel</th>\n",
       "      <td>0.757396</td>\n",
       "      <td>0.242604</td>\n",
       "    </tr>\n",
       "    <tr>\n",
       "      <th>Have solar panel</th>\n",
       "      <td>0.814764</td>\n",
       "      <td>0.185236</td>\n",
       "    </tr>\n",
       "    <tr>\n",
       "      <th rowspan=\"2\" valign=\"top\">WALKBIKE</th>\n",
       "      <th>No one use bike</th>\n",
       "      <td>0.810160</td>\n",
       "      <td>0.189840</td>\n",
       "    </tr>\n",
       "    <tr>\n",
       "      <th>At least one use bike</th>\n",
       "      <td>0.810861</td>\n",
       "      <td>0.189139</td>\n",
       "    </tr>\n",
       "    <tr>\n",
       "      <th rowspan=\"2\" valign=\"top\">TELECO</th>\n",
       "      <th>No one home office</th>\n",
       "      <td>0.832536</td>\n",
       "      <td>0.167464</td>\n",
       "    </tr>\n",
       "    <tr>\n",
       "      <th>At least one home office</th>\n",
       "      <td>0.805901</td>\n",
       "      <td>0.194099</td>\n",
       "    </tr>\n",
       "    <tr>\n",
       "      <th rowspan=\"2\" valign=\"top\">PSENIORS</th>\n",
       "      <th>No Older adult</th>\n",
       "      <td>0.840796</td>\n",
       "      <td>0.159204</td>\n",
       "    </tr>\n",
       "    <tr>\n",
       "      <th>At least one Older adult</th>\n",
       "      <td>0.804415</td>\n",
       "      <td>0.195585</td>\n",
       "    </tr>\n",
       "    <tr>\n",
       "      <th rowspan=\"2\" valign=\"top\">NEIGHB</th>\n",
       "      <th>Neighbor has no veh</th>\n",
       "      <td>0.829320</td>\n",
       "      <td>0.170680</td>\n",
       "    </tr>\n",
       "    <tr>\n",
       "      <th>Neighbor has veh</th>\n",
       "      <td>0.738046</td>\n",
       "      <td>0.261954</td>\n",
       "    </tr>\n",
       "    <tr>\n",
       "      <th rowspan=\"2\" valign=\"top\">SPOOL</th>\n",
       "      <th>Has swimming pool</th>\n",
       "      <td>0.785714</td>\n",
       "      <td>0.214286</td>\n",
       "    </tr>\n",
       "    <tr>\n",
       "      <th>No has pool</th>\n",
       "      <td>0.819493</td>\n",
       "      <td>0.180507</td>\n",
       "    </tr>\n",
       "    <tr>\n",
       "      <th rowspan=\"2\" valign=\"top\">CABLE</th>\n",
       "      <th>No has cable</th>\n",
       "      <td>0.780915</td>\n",
       "      <td>0.219085</td>\n",
       "    </tr>\n",
       "    <tr>\n",
       "      <th>Has cable</th>\n",
       "      <td>0.833711</td>\n",
       "      <td>0.166289</td>\n",
       "    </tr>\n",
       "  </tbody>\n",
       "</table>\n",
       "</div>"
      ],
      "text/plain": [
       "CHOSEN                                     No Veh       Veh\n",
       "CHOSEN   Mean                            0.810638  0.189362\n",
       "INCOME   50000 - 100000                  0.802787  0.197213\n",
       "         Less 50000                      0.855638  0.144362\n",
       "         More 100000                     0.735043  0.264957\n",
       "ETHN     Afroamericana                   0.822485  0.177515\n",
       "         Hispano                         0.823333  0.176667\n",
       "         Asiático                        0.795652  0.204348\n",
       "         Blanca                          0.818939  0.181061\n",
       "PTRANSP  At least one use public transp  0.794020  0.205980\n",
       "         No one use public transp        0.816362  0.183638\n",
       "SOLPAN   No have solar panel             0.757396  0.242604\n",
       "         Have solar panel                0.814764  0.185236\n",
       "WALKBIKE No one use bike                 0.810160  0.189840\n",
       "         At least one use bike           0.810861  0.189139\n",
       "TELECO   No one home office              0.832536  0.167464\n",
       "         At least one home office        0.805901  0.194099\n",
       "PSENIORS No Older adult                  0.840796  0.159204\n",
       "         At least one Older adult        0.804415  0.195585\n",
       "NEIGHB   Neighbor has no veh             0.829320  0.170680\n",
       "         Neighbor has veh                0.738046  0.261954\n",
       "SPOOL    Has swimming pool               0.785714  0.214286\n",
       "         No has pool                     0.819493  0.180507\n",
       "CABLE    No has cable                    0.780915  0.219085\n",
       "         Has cable                       0.833711  0.166289"
      ]
     },
     "execution_count": 23,
     "metadata": {},
     "output_type": "execute_result"
    }
   ],
   "source": [
    "resume_table(data2, conjunto_cat2, 'CHOSEN', 'percent')"
   ]
  },
  {
   "cell_type": "markdown",
   "metadata": {},
   "source": [
    "# Logistic Regresion"
   ]
  },
  {
   "cell_type": "markdown",
   "metadata": {},
   "source": [
    "Analizando las variables, en primer lugar se puede observar que el número de mujeres en el hogar sumado al número de hombres coincide, como es lógico, con el tamaño del hogar. Así como primera idea es considerar sólo esta última variable en el análisis y eliminar el resto."
   ]
  },
  {
   "cell_type": "markdown",
   "metadata": {},
   "source": [
    "Se considerararan una serie de modelos para determinar el que más adecuado para modelar la aquisición del vehículo eléctrico."
   ]
  },
  {
   "cell_type": "code",
   "execution_count": 24,
   "metadata": {},
   "outputs": [],
   "source": [
    "from sklearn.linear_model import LogisticRegression\n",
    "from sklearn.model_selection import train_test_split\n",
    "from sklearn.metrics import accuracy_score"
   ]
  },
  {
   "cell_type": "code",
   "execution_count": 25,
   "metadata": {},
   "outputs": [],
   "source": [
    "#dataSets\n",
    "datay = data['CHOSEN'].map(lambda x: np.where(x == 2, 0, 1))\n",
    "\n",
    "feature_no = ['CHOSEN', 'WOMEN', 'MEN']\n",
    "feature_X = list(set(data.columns.tolist()) - set(feature_no))\n",
    "dataX = data[feature_X]\n",
    "X_train, X_test, y_train, y_test = train_test_split(dataX, datay, test_size = 0.2, random_state = 0)"
   ]
  },
  {
   "cell_type": "markdown",
   "metadata": {},
   "source": [
    "##### 1)Estimate a Model with the socio-demographic variables SPOOL, GRAD, PTRANSP, NEIGHB, PSENIORS, NCHILD, COST"
   ]
  },
  {
   "cell_type": "code",
   "execution_count": 26,
   "metadata": {},
   "outputs": [],
   "source": [
    "feature1 = ['SPOOL', 'GRAD', 'PTRANSP', 'NEIGHB', 'PSENIORS', 'NCHILD', 'COST']\n",
    "X_train1 = X_train[feature1]\n",
    "X_test1 = X_test[feature1]"
   ]
  },
  {
   "cell_type": "code",
   "execution_count": 27,
   "metadata": {
    "scrolled": true
   },
   "outputs": [
    {
     "data": {
      "text/plain": [
       "LogisticRegression(C=1.0, class_weight=None, dual=False, fit_intercept=True,\n",
       "                   intercept_scaling=1, l1_ratio=None, max_iter=100,\n",
       "                   multi_class='auto', n_jobs=None, penalty='l2',\n",
       "                   random_state=0, solver='lbfgs', tol=0.0001, verbose=0,\n",
       "                   warm_start=False)"
      ]
     },
     "execution_count": 27,
     "metadata": {},
     "output_type": "execute_result"
    }
   ],
   "source": [
    "model1 = LogisticRegression(random_state = 0)\n",
    "model1.fit(X_train1,y_train)"
   ]
  },
  {
   "cell_type": "code",
   "execution_count": 28,
   "metadata": {},
   "outputs": [
    {
     "data": {
      "text/plain": [
       "array([-0.86230319])"
      ]
     },
     "execution_count": 28,
     "metadata": {},
     "output_type": "execute_result"
    }
   ],
   "source": [
    "model1.intercept_"
   ]
  },
  {
   "cell_type": "code",
   "execution_count": 29,
   "metadata": {
    "scrolled": true
   },
   "outputs": [
    {
     "data": {
      "text/plain": [
       "array([[ 0.23975568,  0.12676845,  0.06507411,  0.58689702, -0.33336493,\n",
       "        -0.07377629, -0.13071893]])"
      ]
     },
     "execution_count": 29,
     "metadata": {},
     "output_type": "execute_result"
    }
   ],
   "source": [
    "model1.coef_"
   ]
  },
  {
   "cell_type": "code",
   "execution_count": 30,
   "metadata": {},
   "outputs": [
    {
     "name": "stdout",
     "output_type": "stream",
     "text": [
      "train score 0.8058510638297872\n",
      "test score 0.8276595744680851\n"
     ]
    }
   ],
   "source": [
    "print('train score',model1.score(X_train1, y_train))\n",
    "print('test score',model1.score(X_test1, y_test))"
   ]
  },
  {
   "cell_type": "code",
   "execution_count": 31,
   "metadata": {},
   "outputs": [
    {
     "data": {
      "text/plain": [
       "array([0, 0, 0, 0, 0, 0, 0, 0, 0, 0, 0, 0, 0, 0, 0, 0, 0, 0, 0, 0, 0, 0,\n",
       "       0, 0, 0, 0, 0, 0, 0, 0, 0, 0, 0, 0, 0, 0, 0, 0, 0, 0, 0, 0, 0, 0,\n",
       "       0, 0, 0, 0, 0, 0, 0, 0, 0, 0, 0, 0, 0, 0, 0, 0, 0, 0, 0, 0, 0, 0,\n",
       "       0, 0, 0, 0, 0, 0, 0, 0, 0, 0, 0, 0, 0, 0, 0, 0, 0, 0, 0, 0, 0, 0,\n",
       "       0, 0, 0, 0, 0, 0, 0, 0, 0, 0, 0, 0, 0, 0, 0, 0, 0, 0, 0, 0, 0, 0,\n",
       "       0, 0, 0, 0, 0, 0, 0, 0, 0, 0, 0, 0, 0, 0, 0, 0, 0, 0, 0, 0, 0, 0,\n",
       "       0, 0, 0, 0, 0, 0, 0, 0, 0, 0, 0, 0, 0, 0, 0, 0, 0, 0, 0, 0, 0, 0,\n",
       "       0, 0, 0, 0, 0, 0, 0, 0, 0, 0, 0, 0, 0, 0, 0, 0, 0, 0, 0, 0, 0, 0,\n",
       "       0, 0, 0, 0, 0, 0, 0, 0, 0, 0, 0, 0, 0, 0, 0, 0, 0, 0, 0, 0, 0, 0,\n",
       "       0, 0, 0, 0, 0, 0, 0, 0, 0, 0, 0, 0, 0, 0, 0, 0, 0, 0, 0, 0, 0, 0,\n",
       "       0, 0, 0, 0, 0, 0, 0, 0, 0, 0, 0, 0, 0, 0, 0, 0, 0, 0, 0, 0, 0, 0,\n",
       "       0, 0, 0, 0, 0, 0, 0, 0, 0, 0, 0, 0, 0, 0, 0, 0, 0, 0, 0, 0, 0, 0,\n",
       "       0, 0, 0, 0, 0, 0, 0, 0, 0, 0, 0, 0, 0, 0, 0, 0, 0, 0, 0, 0, 0, 0,\n",
       "       0, 0, 0, 0, 0, 0, 0, 0, 0, 0, 0, 0, 0, 0, 0, 0, 0, 0, 0, 0, 0, 0,\n",
       "       0, 0, 0, 0, 0, 0, 0, 0, 0, 0, 0, 0, 0, 0, 0, 0, 0, 0, 0, 0, 0, 0,\n",
       "       0, 0, 0, 0, 0, 0, 0, 0, 0, 0, 0, 0, 0, 0, 0, 0, 0, 0, 0, 0, 0, 0,\n",
       "       0, 0, 0, 0, 0, 0, 0, 0, 0, 0, 0, 0, 0, 0, 0, 0, 0, 0, 0, 0, 0, 0,\n",
       "       0, 0, 0, 0, 0, 0, 0, 0, 0, 0, 0, 0, 0, 0, 0, 0, 0, 0, 0, 0, 0, 0,\n",
       "       0, 0, 0, 0, 0, 0, 0, 0, 0, 0, 0, 0, 0, 0, 0, 0, 0, 0, 0, 0, 0, 0,\n",
       "       0, 0, 0, 0, 0, 0, 0, 0, 0, 0, 0, 0, 0, 0, 0, 0, 0, 0, 0, 0, 0, 0,\n",
       "       0, 0, 0, 0, 0, 0, 0, 0, 0, 0, 0, 0, 0, 0, 0, 0, 0, 0, 0, 0, 0, 0,\n",
       "       0, 0, 0, 0, 0, 0, 0, 0], dtype=int64)"
      ]
     },
     "execution_count": 31,
     "metadata": {},
     "output_type": "execute_result"
    }
   ],
   "source": [
    "preds = model1.predict(X_test1)\n",
    "preds"
   ]
  },
  {
   "cell_type": "markdown",
   "metadata": {},
   "source": [
    "Como se podía observar las muestras estaban muy desvalanceadas, con cerca del 80% de la muestra no adquieriendo el vehículo eléctrico por lo tanto al aplicar la regresión logística el modelo solo predice que no se va adquirir el vehículo eléctrico como se muestra a continuación.\n",
    "Es ahí la importancia de poder tener una muestra balanceada para evitar este tipo de problemas."
   ]
  },
  {
   "cell_type": "code",
   "execution_count": 32,
   "metadata": {},
   "outputs": [],
   "source": [
    "preds_train = model1.predict(X_train1)\n",
    "preds_test = model1.predict(X_test1)\n",
    "if (((preds_train == 0).all()) and ((preds_test == 0).all())): \n",
    "    print('Todas las prediciones se hacen en NO comprar vehículo')"
   ]
  },
  {
   "cell_type": "markdown",
   "metadata": {},
   "source": [
    "### probabilidad de predicciones y redefiniendo umbral"
   ]
  },
  {
   "cell_type": "code",
   "execution_count": 33,
   "metadata": {},
   "outputs": [
    {
     "data": {
      "text/plain": [
       "array([[0.68454805, 0.31545195],\n",
       "       [0.65439455, 0.34560545],\n",
       "       [0.77037703, 0.22962297],\n",
       "       ...,\n",
       "       [0.85495586, 0.14504414],\n",
       "       [0.80849899, 0.19150101],\n",
       "       [0.88061329, 0.11938671]])"
      ]
     },
     "execution_count": 33,
     "metadata": {},
     "output_type": "execute_result"
    }
   ],
   "source": [
    "probs_train = model1.predict_proba(X_train1)\n",
    "probs_test = model1.predict_proba(X_test1)\n",
    "probs_train"
   ]
  },
  {
   "cell_type": "code",
   "execution_count": 34,
   "metadata": {},
   "outputs": [],
   "source": [
    "threshold = 0.2"
   ]
  },
  {
   "cell_type": "code",
   "execution_count": 35,
   "metadata": {},
   "outputs": [],
   "source": [
    "prob_train = probs_train[:, 1]\n",
    "prob_test = probs_test[:, 1]\n",
    "\n",
    "prob_train_df = pd.DataFrame(prob_train, columns = ['Prob'])\n",
    "prob_test_df = pd.DataFrame(prob_test, columns = ['Prob'])\n",
    "\n",
    "prob_train_df['prediction: '+ str(threshold)] = np.where(prob_train_df['Prob'] > threshold, 1, 0)\n",
    "prob_test_df['prediction: '+ str(threshold)] = np.where(prob_test_df['Prob'] > threshold, 1, 0)"
   ]
  },
  {
   "cell_type": "code",
   "execution_count": 36,
   "metadata": {},
   "outputs": [
    {
     "data": {
      "text/html": [
       "<div>\n",
       "<style scoped>\n",
       "    .dataframe tbody tr th:only-of-type {\n",
       "        vertical-align: middle;\n",
       "    }\n",
       "\n",
       "    .dataframe tbody tr th {\n",
       "        vertical-align: top;\n",
       "    }\n",
       "\n",
       "    .dataframe thead th {\n",
       "        text-align: right;\n",
       "    }\n",
       "</style>\n",
       "<table border=\"1\" class=\"dataframe\">\n",
       "  <thead>\n",
       "    <tr style=\"text-align: right;\">\n",
       "      <th></th>\n",
       "      <th>prediction: 0.2</th>\n",
       "    </tr>\n",
       "  </thead>\n",
       "  <tbody>\n",
       "    <tr>\n",
       "      <th>0</th>\n",
       "      <td>1121</td>\n",
       "    </tr>\n",
       "    <tr>\n",
       "      <th>1</th>\n",
       "      <td>759</td>\n",
       "    </tr>\n",
       "  </tbody>\n",
       "</table>\n",
       "</div>"
      ],
      "text/plain": [
       "   prediction: 0.2\n",
       "0             1121\n",
       "1              759"
      ]
     },
     "execution_count": 36,
     "metadata": {},
     "output_type": "execute_result"
    }
   ],
   "source": [
    "pd.DataFrame(prob_train_df.iloc[:, 1].value_counts())\n"
   ]
  },
  {
   "cell_type": "code",
   "execution_count": 37,
   "metadata": {},
   "outputs": [
    {
     "data": {
      "text/html": [
       "<div>\n",
       "<style scoped>\n",
       "    .dataframe tbody tr th:only-of-type {\n",
       "        vertical-align: middle;\n",
       "    }\n",
       "\n",
       "    .dataframe tbody tr th {\n",
       "        vertical-align: top;\n",
       "    }\n",
       "\n",
       "    .dataframe thead th {\n",
       "        text-align: right;\n",
       "    }\n",
       "</style>\n",
       "<table border=\"1\" class=\"dataframe\">\n",
       "  <thead>\n",
       "    <tr style=\"text-align: right;\">\n",
       "      <th></th>\n",
       "      <th>prediction: 0.2</th>\n",
       "    </tr>\n",
       "  </thead>\n",
       "  <tbody>\n",
       "    <tr>\n",
       "      <th>0</th>\n",
       "      <td>270</td>\n",
       "    </tr>\n",
       "    <tr>\n",
       "      <th>1</th>\n",
       "      <td>200</td>\n",
       "    </tr>\n",
       "  </tbody>\n",
       "</table>\n",
       "</div>"
      ],
      "text/plain": [
       "   prediction: 0.2\n",
       "0              270\n",
       "1              200"
      ]
     },
     "execution_count": 37,
     "metadata": {},
     "output_type": "execute_result"
    }
   ],
   "source": [
    "pd.DataFrame(prob_test_df.iloc[:, 1].value_counts())"
   ]
  },
  {
   "cell_type": "code",
   "execution_count": 38,
   "metadata": {
    "scrolled": true
   },
   "outputs": [
    {
     "data": {
      "text/html": [
       "<div>\n",
       "<style scoped>\n",
       "    .dataframe tbody tr th:only-of-type {\n",
       "        vertical-align: middle;\n",
       "    }\n",
       "\n",
       "    .dataframe tbody tr th {\n",
       "        vertical-align: top;\n",
       "    }\n",
       "\n",
       "    .dataframe thead th {\n",
       "        text-align: right;\n",
       "    }\n",
       "</style>\n",
       "<table border=\"1\" class=\"dataframe\">\n",
       "  <thead>\n",
       "    <tr style=\"text-align: right;\">\n",
       "      <th></th>\n",
       "      <th>Prob</th>\n",
       "      <th>prediction: 0.2</th>\n",
       "    </tr>\n",
       "  </thead>\n",
       "  <tbody>\n",
       "    <tr>\n",
       "      <th>0</th>\n",
       "      <td>0.315452</td>\n",
       "      <td>1</td>\n",
       "    </tr>\n",
       "    <tr>\n",
       "      <th>1</th>\n",
       "      <td>0.345605</td>\n",
       "      <td>1</td>\n",
       "    </tr>\n",
       "    <tr>\n",
       "      <th>2</th>\n",
       "      <td>0.229623</td>\n",
       "      <td>1</td>\n",
       "    </tr>\n",
       "    <tr>\n",
       "      <th>3</th>\n",
       "      <td>0.168226</td>\n",
       "      <td>0</td>\n",
       "    </tr>\n",
       "    <tr>\n",
       "      <th>4</th>\n",
       "      <td>0.187305</td>\n",
       "      <td>0</td>\n",
       "    </tr>\n",
       "    <tr>\n",
       "      <th>...</th>\n",
       "      <td>...</td>\n",
       "      <td>...</td>\n",
       "    </tr>\n",
       "    <tr>\n",
       "      <th>1875</th>\n",
       "      <td>0.150355</td>\n",
       "      <td>0</td>\n",
       "    </tr>\n",
       "    <tr>\n",
       "      <th>1876</th>\n",
       "      <td>0.214401</td>\n",
       "      <td>1</td>\n",
       "    </tr>\n",
       "    <tr>\n",
       "      <th>1877</th>\n",
       "      <td>0.145044</td>\n",
       "      <td>0</td>\n",
       "    </tr>\n",
       "    <tr>\n",
       "      <th>1878</th>\n",
       "      <td>0.191501</td>\n",
       "      <td>0</td>\n",
       "    </tr>\n",
       "    <tr>\n",
       "      <th>1879</th>\n",
       "      <td>0.119387</td>\n",
       "      <td>0</td>\n",
       "    </tr>\n",
       "  </tbody>\n",
       "</table>\n",
       "<p>1880 rows × 2 columns</p>\n",
       "</div>"
      ],
      "text/plain": [
       "          Prob  prediction: 0.2\n",
       "0     0.315452                1\n",
       "1     0.345605                1\n",
       "2     0.229623                1\n",
       "3     0.168226                0\n",
       "4     0.187305                0\n",
       "...        ...              ...\n",
       "1875  0.150355                0\n",
       "1876  0.214401                1\n",
       "1877  0.145044                0\n",
       "1878  0.191501                0\n",
       "1879  0.119387                0\n",
       "\n",
       "[1880 rows x 2 columns]"
      ]
     },
     "execution_count": 38,
     "metadata": {},
     "output_type": "execute_result"
    }
   ],
   "source": [
    "prob_train_df"
   ]
  },
  {
   "cell_type": "markdown",
   "metadata": {},
   "source": [
    "### Eficacia del modelo"
   ]
  },
  {
   "cell_type": "code",
   "execution_count": 39,
   "metadata": {},
   "outputs": [
    {
     "data": {
      "text/plain": [
       "0.6154255319148936"
      ]
     },
     "execution_count": 39,
     "metadata": {},
     "output_type": "execute_result"
    }
   ],
   "source": [
    "accuracy_score(y_train, prob_train_df.iloc[:, 1])"
   ]
  },
  {
   "cell_type": "markdown",
   "metadata": {},
   "source": [
    "### Analysis threshold"
   ]
  },
  {
   "cell_type": "code",
   "execution_count": 40,
   "metadata": {},
   "outputs": [],
   "source": [
    "def Evaluate_Logistic_Regresion(X_train, X_test, y_train, y_test, features1, threshold, detail_value):\n",
    "    X_train1 = X_train[features1]\n",
    "    X_test1 = X_test[features1]\n",
    "    model1 = LogisticRegression(random_state = 0, solver = 'lbfgs')\n",
    "    model1.fit(X_train1,y_train)\n",
    "    #print('Train score',model1.score(X_train1, y_train))\n",
    "    #print('Test score',model1.score(X_test1, y_test))\n",
    "    #evaluate threshold\n",
    "    prob_train_df = pd.DataFrame(model1.predict_proba(X_train1)[:, 1], columns = ['Prob'])\n",
    "    prob_test_df = pd.DataFrame(model1.predict_proba(X_test1)[:, 1], columns = ['Prob'])\n",
    "    #asign\n",
    "    prob_train_df['Threshold: '+ str(threshold)] = np.where(prob_train_df['Prob'] > threshold, 1, 0)\n",
    "    prob_test_df['Threshold: '+ str(threshold)] = np.where(prob_test_df['Prob'] > threshold, 1, 0)\n",
    "    if detail_value == True:\n",
    "        print('\\n****Threshold: ', threshold)\n",
    "        print('-Clasification train set', pd.DataFrame(prob_train_df.iloc[:, 1].value_counts()))\n",
    "        print('-Clasification test set',pd.DataFrame(prob_test_df.iloc[:, 1].value_counts()))\n",
    "        print('-Acurrancy Score', accuracy_score(y_train, prob_train_df.iloc[:, 1]))\n",
    "    return threshold, accuracy_score(y_train, prob_train_df.iloc[:, 1])"
   ]
  },
  {
   "cell_type": "code",
   "execution_count": 41,
   "metadata": {},
   "outputs": [],
   "source": [
    "def Anylisis_threshold(X_train, X_test, y_train, y_test, feature1, detail = False):\n",
    "    j = 0\n",
    "    threshold_i = np.zeros(100)\n",
    "    acurrancy_i = np.zeros(100)\n",
    "    for i in np.linspace(0.001, 0.5, 100):\n",
    "        threshold_i[j], acurrancy_i[j] = Evaluate_Logistic_Regresion(X_train, X_test, y_train, y_test, feature1, i , detail)\n",
    "        j += 1\n",
    "    plt.scatter(threshold_i, acurrancy_i)\n",
    "    plt.xlabel('Threshold')\n",
    "    plt.ylabel('Acurrancy Score')\n",
    "    print('Max Acurrancy ', acurrancy_i[99])"
   ]
  },
  {
   "cell_type": "code",
   "execution_count": 42,
   "metadata": {},
   "outputs": [
    {
     "name": "stdout",
     "output_type": "stream",
     "text": [
      "Max Acurrancy  0.8058510638297872\n"
     ]
    },
    {
     "data": {
      "image/png": "[encoded data removed]",
      "text/plain": [
       "<Figure size 432x288 with 1 Axes>"
      ]
     },
     "metadata": {},
     "output_type": "display_data"
    }
   ],
   "source": [
    "features = ['SPOOL', 'GRAD', 'PTRANSP', 'NEIGHB', 'PSENIORS', 'NCHILD', 'COST']\n",
    "Anylisis_threshold(X_train, X_test, y_train, y_test, features, detail = False)"
   ]
  },
  {
   "cell_type": "code",
   "execution_count": 43,
   "metadata": {},
   "outputs": [
    {
     "name": "stdout",
     "output_type": "stream",
     "text": [
      "Max Acurrancy  0.8063829787234043\n"
     ]
    },
    {
     "data": {
      "image/png": "[encoded data removed]",
      "text/plain": [
       "<Figure size 432x288 with 1 Axes>"
      ]
     },
     "metadata": {},
     "output_type": "display_data"
    }
   ],
   "source": [
    "features = ['SPOOL', 'GRAD']\n",
    "Anylisis_threshold(X_train, X_test, y_train, y_test, features, detail = False)"
   ]
  },
  {
   "cell_type": "code",
   "execution_count": null,
   "metadata": {},
   "outputs": [],
   "source": []
  }
 ],
 "metadata": {
  "kernelspec": {
   "display_name": "Python 3",
   "language": "python",
   "name": "python3"
  },
  "language_info": {
   "codemirror_mode": {
    "name": "ipython",
    "version": 3
   },
   "file_extension": ".py",
   "mimetype": "text/x-python",
   "name": "python",
   "nbconvert_exporter": "python",
   "pygments_lexer": "ipython3",
   "version": "3.7.7"
  }
 },
 "nbformat": 4,
 "nbformat_minor": 2
}
